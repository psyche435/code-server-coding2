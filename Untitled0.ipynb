{
  "nbformat": 4,
  "nbformat_minor": 0,
  "metadata": {
    "colab": {
      "provenance": [],
      "gpuType": "T4",
      "authorship_tag": "ABX9TyPC8zGqLzHxC6nsDeqzVCfa",
      "include_colab_link": true
    },
    "kernelspec": {
      "name": "python3",
      "display_name": "Python 3"
    },
    "language_info": {
      "name": "python"
    },
    "accelerator": "GPU"
  },
  "cells": [
    {
      "cell_type": "markdown",
      "metadata": {
        "id": "view-in-github",
        "colab_type": "text"
      },
      "source": [
        "<a href=\"https://colab.research.google.com/github/psyche435/code-server-coding2/blob/main/Untitled0.ipynb\" target=\"_parent\"><img src=\"https://colab.research.google.com/assets/colab-badge.svg\" alt=\"Open In Colab\"/></a>"
      ]
    },
    {
      "cell_type": "code",
      "execution_count": 1,
      "metadata": {
        "colab": {
          "base_uri": "https://localhost:8080/"
        },
        "id": "hCSTuob9pGvc",
        "outputId": "b508aa31-961c-4829-dfca-d1fbb256b211"
      },
      "outputs": [
        {
          "output_type": "stream",
          "name": "stdout",
          "text": [
            "Wed Jun 26 16:09:06 2024       \n",
            "+-----------------------------------------------------------------------------------------+\n",
            "| NVIDIA-SMI 555.99                 Driver Version: 555.99         CUDA Version: 12.5     |\n",
            "|-----------------------------------------+------------------------+----------------------+\n",
            "| GPU  Name                  Driver-Model | Bus-Id          Disp.A | Volatile Uncorr. ECC |\n",
            "| Fan  Temp   Perf          Pwr:Usage/Cap |           Memory-Usage | GPU-Util  Compute M. |\n",
            "|                                         |                        |               MIG M. |\n",
            "|=========================================+========================+======================|\n",
            "|   0  NVIDIA GeForce RTX 4060 Ti   WDDM  |   00000000:01:00.0  On |                  N/A |\n",
            "|  0%   40C    P8             12W /  165W |     853MiB /  16380MiB |     22%      Default |\n",
            "|                                         |                        |                  N/A |\n",
            "+-----------------------------------------+------------------------+----------------------+\n",
            "                                                                                         \n",
            "+-----------------------------------------------------------------------------------------+\n",
            "| Processes:                                                                              |\n",
            "|  GPU   GI   CI        PID   Type   Process name                              GPU Memory |\n",
            "|        ID   ID                                                               Usage      |\n",
            "|=========================================================================================|\n",
            "|    0   N/A  N/A      3004    C+G   ...CBS_cw5n1h2txyewy\\TextInputHost.exe      N/A      |\n",
            "|    0   N/A  N/A      5808    C+G   ...\\cef\\cef.win7x64\\steamwebhelper.exe      N/A      |\n",
            "|    0   N/A  N/A      7104    C+G   ...__8wekyb3d8bbwe\\WindowsTerminal.exe      N/A      |\n",
            "|    0   N/A  N/A      9624    C+G   C:\\Windows\\explorer.exe                     N/A      |\n",
            "|    0   N/A  N/A      9884    C+G   ...2txyewy\\StartMenuExperienceHost.exe      N/A      |\n",
            "|    0   N/A  N/A     10916    C+G   ...on\\126.0.2592.68\\msedgewebview2.exe      N/A      |\n",
            "|    0   N/A  N/A     12640    C+G   ...crosoft\\Edge\\Application\\msedge.exe      N/A      |\n",
            "|    0   N/A  N/A     13876    C+G   ...on\\wallpaper_engine\\wallpaper32.exe      N/A      |\n",
            "|    0   N/A  N/A     15008    C+G   ...on\\126.0.2592.68\\msedgewebview2.exe      N/A      |\n",
            "|    0   N/A  N/A     16324    C+G   ...cal\\Microsoft\\OneDrive\\OneDrive.exe      N/A      |\n",
            "|    0   N/A  N/A     17020    C+G   ...\\cef\\cef.win7x64\\steamwebhelper.exe      N/A      |\n",
            "|    0   N/A  N/A     17620    C+G   ...t.LockApp_cw5n1h2txyewy\\LockApp.exe      N/A      |\n",
            "|    0   N/A  N/A     17892    C+G   ...nt.CBS_cw5n1h2txyewy\\SearchHost.exe      N/A      |\n",
            "|    0   N/A  N/A     19852    C+G   ...6929\\office6\\promecefpluginhost.exe      N/A      |\n",
            "|    0   N/A  N/A     20356    C+G   ...siveControlPanel\\SystemSettings.exe      N/A      |\n",
            "|    0   N/A  N/A     21688    C+G   ...ekyb3d8bbwe\\PhoneExperienceHost.exe      N/A      |\n",
            "|    0   N/A  N/A     21756    C+G   ...GeForce Experience\\NVIDIA Share.exe      N/A      |\n",
            "|    0   N/A  N/A     23144    C+G   ...5n1h2txyewy\\ShellExperienceHost.exe      N/A      |\n",
            "+-----------------------------------------------------------------------------------------+\n"
          ]
        }
      ],
      "source": [
        "!nvidia-smi"
      ]
    },
    {
      "cell_type": "code",
      "source": [
        "!pip install ultralytics"
      ],
      "metadata": {
        "id": "HNW2Wk-npuxC",
        "colab": {
          "base_uri": "https://localhost:8080/"
        },
        "outputId": "b8f8022a-0fce-4d38-c1ba-9910782d0aff"
      },
      "execution_count": null,
      "outputs": [
        {
          "output_type": "stream",
          "name": "stdout",
          "text": [
            "Looking in indexes: https://pypi.tuna.tsinghua.edu.cn/simple\n",
            "Requirement already satisfied: ultralytics in c:\\users\\henry\\appdata\\roaming\\python\\python311\\site-packages (8.2.38)\n",
            "Requirement already satisfied: numpy<2.0.0 in c:\\users\\henry\\appdata\\roaming\\python\\python311\\site-packages (from ultralytics) (1.26.4)\n",
            "Requirement already satisfied: matplotlib>=3.3.0 in c:\\users\\henry\\appdata\\roaming\\python\\python311\\site-packages (from ultralytics) (3.9.0)\n",
            "Requirement already satisfied: opencv-python>=4.6.0 in c:\\users\\henry\\appdata\\roaming\\python\\python311\\site-packages (from ultralytics) (4.10.0.84)\n",
            "Requirement already satisfied: pillow>=7.1.2 in c:\\users\\henry\\appdata\\roaming\\python\\python311\\site-packages (from ultralytics) (10.3.0)\n",
            "Requirement already satisfied: pyyaml>=5.3.1 in c:\\users\\henry\\appdata\\roaming\\python\\python311\\site-packages (from ultralytics) (6.0.1)\n",
            "Requirement already satisfied: requests>=2.23.0 in c:\\users\\henry\\appdata\\roaming\\python\\python311\\site-packages (from ultralytics) (2.32.3)\n",
            "Requirement already satisfied: scipy>=1.4.1 in c:\\users\\henry\\appdata\\roaming\\python\\python311\\site-packages (from ultralytics) (1.13.1)\n",
            "Requirement already satisfied: torch>=1.8.0 in c:\\users\\henry\\appdata\\roaming\\python\\python311\\site-packages (from ultralytics) (2.3.1)\n",
            "Requirement already satisfied: torchvision>=0.9.0 in c:\\users\\henry\\appdata\\roaming\\python\\python311\\site-packages (from ultralytics) (0.18.1)\n",
            "Requirement already satisfied: tqdm>=4.64.0 in c:\\users\\henry\\appdata\\roaming\\python\\python311\\site-packages (from ultralytics) (4.66.4)\n",
            "Requirement already satisfied: psutil in c:\\users\\henry\\appdata\\roaming\\python\\python311\\site-packages (from ultralytics) (5.9.8)\n",
            "Requirement already satisfied: py-cpuinfo in c:\\users\\henry\\appdata\\roaming\\python\\python311\\site-packages (from ultralytics) (9.0.0)\n",
            "Requirement already satisfied: pandas>=1.1.4 in c:\\users\\henry\\appdata\\roaming\\python\\python311\\site-packages (from ultralytics) (2.2.2)\n",
            "Requirement already satisfied: seaborn>=0.11.0 in c:\\users\\henry\\appdata\\roaming\\python\\python311\\site-packages (from ultralytics) (0.13.2)\n",
            "Requirement already satisfied: ultralytics-thop>=2.0.0 in c:\\users\\henry\\appdata\\roaming\\python\\python311\\site-packages (from ultralytics) (2.0.0)\n",
            "Requirement already satisfied: contourpy>=1.0.1 in c:\\users\\henry\\appdata\\roaming\\python\\python311\\site-packages (from matplotlib>=3.3.0->ultralytics) (1.2.1)\n",
            "Requirement already satisfied: cycler>=0.10 in c:\\users\\henry\\appdata\\roaming\\python\\python311\\site-packages (from matplotlib>=3.3.0->ultralytics) (0.12.1)\n",
            "Requirement already satisfied: fonttools>=4.22.0 in c:\\users\\henry\\appdata\\roaming\\python\\python311\\site-packages (from matplotlib>=3.3.0->ultralytics) (4.53.0)\n",
            "Requirement already satisfied: kiwisolver>=1.3.1 in c:\\users\\henry\\appdata\\roaming\\python\\python311\\site-packages (from matplotlib>=3.3.0->ultralytics) (1.4.5)\n",
            "Requirement already satisfied: packaging>=20.0 in c:\\users\\henry\\appdata\\roaming\\python\\python311\\site-packages (from matplotlib>=3.3.0->ultralytics) (24.0)\n",
            "Requirement already satisfied: pyparsing>=2.3.1 in c:\\users\\henry\\appdata\\roaming\\python\\python311\\site-packages (from matplotlib>=3.3.0->ultralytics) (3.1.2)\n",
            "Requirement already satisfied: python-dateutil>=2.7 in c:\\users\\henry\\appdata\\roaming\\python\\python311\\site-packages (from matplotlib>=3.3.0->ultralytics) (2.9.0.post0)\n",
            "Requirement already satisfied: pytz>=2020.1 in c:\\users\\henry\\appdata\\roaming\\python\\python311\\site-packages (from pandas>=1.1.4->ultralytics) (2024.1)\n",
            "Requirement already satisfied: tzdata>=2022.7 in c:\\users\\henry\\appdata\\roaming\\python\\python311\\site-packages (from pandas>=1.1.4->ultralytics) (2024.1)\n",
            "Requirement already satisfied: charset-normalizer<4,>=2 in c:\\users\\henry\\appdata\\roaming\\python\\python311\\site-packages (from requests>=2.23.0->ultralytics) (3.3.2)\n",
            "Requirement already satisfied: idna<4,>=2.5 in c:\\users\\henry\\appdata\\roaming\\python\\python311\\site-packages (from requests>=2.23.0->ultralytics) (3.7)\n",
            "Requirement already satisfied: urllib3<3,>=1.21.1 in c:\\users\\henry\\appdata\\roaming\\python\\python311\\site-packages (from requests>=2.23.0->ultralytics) (2.2.1)\n",
            "Requirement already satisfied: certifi>=2017.4.17 in c:\\users\\henry\\appdata\\roaming\\python\\python311\\site-packages (from requests>=2.23.0->ultralytics) (2024.6.2)\n",
            "Requirement already satisfied: filelock in c:\\users\\henry\\appdata\\roaming\\python\\python311\\site-packages (from torch>=1.8.0->ultralytics) (3.14.0)\n",
            "Requirement already satisfied: typing-extensions>=4.8.0 in c:\\users\\henry\\appdata\\roaming\\python\\python311\\site-packages (from torch>=1.8.0->ultralytics) (4.12.2)\n",
            "Requirement already satisfied: sympy in c:\\users\\henry\\appdata\\roaming\\python\\python311\\site-packages (from torch>=1.8.0->ultralytics) (1.12.1)\n",
            "Requirement already satisfied: networkx in c:\\users\\henry\\appdata\\roaming\\python\\python311\\site-packages (from torch>=1.8.0->ultralytics) (3.3)\n",
            "Requirement already satisfied: jinja2 in c:\\users\\henry\\appdata\\roaming\\python\\python311\\site-packages (from torch>=1.8.0->ultralytics) (3.1.4)\n",
            "Requirement already satisfied: fsspec in c:\\users\\henry\\appdata\\roaming\\python\\python311\\site-packages (from torch>=1.8.0->ultralytics) (2024.6.0)\n",
            "Requirement already satisfied: mkl<=2021.4.0,>=2021.1.1 in c:\\users\\henry\\appdata\\roaming\\python\\python311\\site-packages (from torch>=1.8.0->ultralytics) (2021.4.0)\n",
            "Requirement already satisfied: colorama in c:\\users\\henry\\appdata\\roaming\\python\\python311\\site-packages (from tqdm>=4.64.0->ultralytics) (0.4.6)\n",
            "Requirement already satisfied: intel-openmp==2021.* in c:\\users\\henry\\appdata\\roaming\\python\\python311\\site-packages (from mkl<=2021.4.0,>=2021.1.1->torch>=1.8.0->ultralytics) (2021.4.0)\n",
            "Requirement already satisfied: tbb==2021.* in c:\\users\\henry\\appdata\\roaming\\python\\python311\\site-packages (from mkl<=2021.4.0,>=2021.1.1->torch>=1.8.0->ultralytics) (2021.12.0)\n",
            "Requirement already satisfied: six>=1.5 in c:\\users\\henry\\appdata\\roaming\\python\\python311\\site-packages (from python-dateutil>=2.7->matplotlib>=3.3.0->ultralytics) (1.16.0)\n",
            "Requirement already satisfied: MarkupSafe>=2.0 in c:\\users\\henry\\appdata\\roaming\\python\\python311\\site-packages (from jinja2->torch>=1.8.0->ultralytics) (2.1.5)\n",
            "Requirement already satisfied: mpmath<1.4.0,>=1.1.0 in c:\\users\\henry\\appdata\\roaming\\python\\python311\\site-packages (from sympy->torch>=1.8.0->ultralytics) (1.3.0)\n"
          ]
        }
      ]
    },
    {
      "cell_type": "code",
      "source": [
        "from ultralytics import YOLO\n",
        "import os\n",
        "from IPython.display import display,Image\n",
        "from IPython import display\n",
        "display.clear_output\n",
        "!yolo checks"
      ],
      "metadata": {
        "colab": {
          "base_uri": "https://localhost:8080/"
        },
        "id": "YQuR3-6ssBeT",
        "outputId": "492b6ed5-801e-4793-dd8b-f5a78b73228e"
      },
      "execution_count": 2,
      "outputs": [
        {
          "output_type": "stream",
          "name": "stdout",
          "text": [
            "\u001b[2K\n",
            "\u001b[2K\n",
            "Ultralytics YOLOv8.2.38 馃殌 Python-3.11.5 torch-2.3.1+cu118 CUDA:0 (NVIDIA GeForce RTX 4060 Ti, 16380MiB)\n",
            "Setup complete 鉁� (12 CPUs, 31.8 GB RAM, 222.6/599.3 GB disk)\n",
            "\n",
            "OS                  Windows-10-10.0.22631-SP0\n",
            "Environment         Windows\n",
            "Python              3.11.5\n",
            "Install             pip\n",
            "RAM                 31.84 GB\n",
            "CPU                 12th Gen Intel Core(TM) i5-12400F\n",
            "CUDA                11.8\n",
            "\n",
            "numpy               鉁� 1.26.4<2.0.0\n",
            "matplotlib          鉁� 3.9.0>=3.3.0\n",
            "opencv-python       鉁� 4.10.0.84>=4.6.0\n",
            "pillow              鉁� 10.3.0>=7.1.2\n",
            "pyyaml              鉁� 6.0.1>=5.3.1\n",
            "requests            鉁� 2.32.3>=2.23.0\n",
            "scipy               鉁� 1.13.1>=1.4.1\n",
            "torch               鉁� 2.3.1+cu118>=1.8.0\n",
            "torchvision         鉁� 0.18.1+cu118>=0.9.0\n",
            "tqdm                鉁� 4.66.4>=4.64.0\n",
            "psutil              鉁� 5.9.8\n",
            "py-cpuinfo          鉁� 9.0.0\n",
            "pandas              鉁� 2.2.2>=1.1.4\n",
            "seaborn             鉁� 0.13.2>=0.11.0\n",
            "ultralytics-thop    鉁� 2.0.0>=2.0.0\n"
          ]
        }
      ]
    },
    {
      "cell_type": "code",
      "source": [
        "!pip install roboflow"
      ],
      "metadata": {
        "colab": {
          "base_uri": "https://localhost:8080/"
        },
        "id": "4WsIKlT8tGwF",
        "outputId": "d04f586d-c7a8-4fa7-f2d2-1ea7bffc8953"
      },
      "execution_count": null,
      "outputs": [
        {
          "output_type": "stream",
          "name": "stdout",
          "text": [
            "Looking in indexes: https://pypi.tuna.tsinghua.edu.cn/simple\n",
            "Requirement already satisfied: roboflow in c:\\users\\henry\\appdata\\roaming\\python\\python311\\site-packages (1.1.33)\n",
            "Requirement already satisfied: certifi in c:\\users\\henry\\appdata\\roaming\\python\\python311\\site-packages (from roboflow) (2024.6.2)\n",
            "Collecting chardet==4.0.0 (from roboflow)\n",
            "  Downloading https://pypi.tuna.tsinghua.edu.cn/packages/19/c7/fa589626997dd07bd87d9269342ccb74b1720384a4d739a1872bd84fbe68/chardet-4.0.0-py2.py3-none-any.whl (178 kB)\n",
            "     ---------------------------------------- 0.0/178.7 kB ? eta -:--:--\n",
            "     -- ------------------------------------- 10.2/178.7 kB ? eta -:--:--\n",
            "     -- ------------------------------------- 10.2/178.7 kB ? eta -:--:--\n",
            "     -- ------------------------------------- 10.2/178.7 kB ? eta -:--:--\n",
            "     -- ------------------------------------- 10.2/178.7 kB ? eta -:--:--\n",
            "     -- ------------------------------------- 10.2/178.7 kB ? eta -:--:--\n",
            "     -- ------------------------------------- 10.2/178.7 kB ? eta -:--:--\n",
            "     -- ------------------------------------- 10.2/178.7 kB ? eta -:--:--\n",
            "     -- ------------------------------------- 10.2/178.7 kB ? eta -:--:--\n",
            "     -- ------------------------------------- 10.2/178.7 kB ? eta -:--:--\n",
            "     -- ------------------------------------- 10.2/178.7 kB ? eta -:--:--\n",
            "     -- ------------------------------------- 10.2/178.7 kB ? eta -:--:--\n",
            "     ------ ------------------------------- 30.7/178.7 kB 37.4 kB/s eta 0:00:04\n",
            "     ------ ------------------------------- 30.7/178.7 kB 37.4 kB/s eta 0:00:04\n",
            "     -------- ----------------------------- 41.0/178.7 kB 46.8 kB/s eta 0:00:03\n",
            "     -------- ----------------------------- 41.0/178.7 kB 46.8 kB/s eta 0:00:03\n",
            "     -------- ----------------------------- 41.0/178.7 kB 46.8 kB/s eta 0:00:03\n",
            "     ------------- ------------------------ 61.4/178.7 kB 65.6 kB/s eta 0:00:02\n",
            "     ------------- ------------------------ 61.4/178.7 kB 65.6 kB/s eta 0:00:02\n",
            "     ------------- ------------------------ 61.4/178.7 kB 65.6 kB/s eta 0:00:02\n",
            "     ------------- ------------------------ 61.4/178.7 kB 65.6 kB/s eta 0:00:02\n",
            "     ------------- ------------------------ 61.4/178.7 kB 65.6 kB/s eta 0:00:02\n",
            "     ------------- ------------------------ 61.4/178.7 kB 65.6 kB/s eta 0:00:02\n",
            "     ------------- ------------------------ 61.4/178.7 kB 65.6 kB/s eta 0:00:02\n",
            "     ------------- ------------------------ 61.4/178.7 kB 65.6 kB/s eta 0:00:02\n",
            "     ------------- ------------------------ 61.4/178.7 kB 65.6 kB/s eta 0:00:02\n",
            "     ------------- ------------------------ 61.4/178.7 kB 65.6 kB/s eta 0:00:02\n",
            "     ------------- ------------------------ 61.4/178.7 kB 65.6 kB/s eta 0:00:02\n",
            "     ------------- ------------------------ 61.4/178.7 kB 65.6 kB/s eta 0:00:02\n",
            "     ------------- ------------------------ 61.4/178.7 kB 65.6 kB/s eta 0:00:02\n",
            "     ------------- ------------------------ 61.4/178.7 kB 65.6 kB/s eta 0:00:02\n",
            "     ------------- ------------------------ 61.4/178.7 kB 65.6 kB/s eta 0:00:02\n",
            "     ------------- ------------------------ 61.4/178.7 kB 65.6 kB/s eta 0:00:02\n",
            "     ------------- ------------------------ 61.4/178.7 kB 65.6 kB/s eta 0:00:02\n",
            "     ------------- ------------------------ 61.4/178.7 kB 65.6 kB/s eta 0:00:02\n",
            "     ------------- ------------------------ 61.4/178.7 kB 65.6 kB/s eta 0:00:02\n",
            "     ------------- ------------------------ 61.4/178.7 kB 65.6 kB/s eta 0:00:02\n",
            "     ------------- ------------------------ 61.4/178.7 kB 65.6 kB/s eta 0:00:02\n",
            "     ------------- ------------------------ 61.4/178.7 kB 65.6 kB/s eta 0:00:02\n",
            "     ------------- ------------------------ 61.4/178.7 kB 65.6 kB/s eta 0:00:02\n",
            "     ------------- ------------------------ 61.4/178.7 kB 65.6 kB/s eta 0:00:02\n",
            "     --------------- ---------------------- 71.7/178.7 kB 32.5 kB/s eta 0:00:04\n",
            "     --------------- ---------------------- 71.7/178.7 kB 32.5 kB/s eta 0:00:04\n",
            "     --------------- ---------------------- 71.7/178.7 kB 32.5 kB/s eta 0:00:04\n",
            "     --------------- ---------------------- 71.7/178.7 kB 32.5 kB/s eta 0:00:04\n",
            "     --------------- ---------------------- 71.7/178.7 kB 32.5 kB/s eta 0:00:04\n",
            "     --------------- ---------------------- 71.7/178.7 kB 32.5 kB/s eta 0:00:04\n",
            "     --------------- ---------------------- 71.7/178.7 kB 32.5 kB/s eta 0:00:04\n",
            "     --------------- ---------------------- 71.7/178.7 kB 32.5 kB/s eta 0:00:04\n",
            "     --------------- ---------------------- 71.7/178.7 kB 32.5 kB/s eta 0:00:04\n",
            "     --------------- ---------------------- 71.7/178.7 kB 32.5 kB/s eta 0:00:04\n",
            "     --------------- ---------------------- 71.7/178.7 kB 32.5 kB/s eta 0:00:04\n",
            "     --------------- ---------------------- 71.7/178.7 kB 32.5 kB/s eta 0:00:04\n",
            "     --------------- ---------------------- 71.7/178.7 kB 32.5 kB/s eta 0:00:04\n",
            "     --------------- ---------------------- 71.7/178.7 kB 32.5 kB/s eta 0:00:04\n",
            "     --------------- ---------------------- 71.7/178.7 kB 32.5 kB/s eta 0:00:04\n",
            "     --------------- ---------------------- 71.7/178.7 kB 32.5 kB/s eta 0:00:04\n",
            "     ------------------- ------------------ 92.2/178.7 kB 31.0 kB/s eta 0:00:03\n",
            "     ------------------- ------------------ 92.2/178.7 kB 31.0 kB/s eta 0:00:03\n",
            "     ------------------- ------------------ 92.2/178.7 kB 31.0 kB/s eta 0:00:03\n",
            "     ------------------- ------------------ 92.2/178.7 kB 31.0 kB/s eta 0:00:03\n",
            "     ------------------- ------------------ 92.2/178.7 kB 31.0 kB/s eta 0:00:03\n",
            "     ----------------------- ------------- 112.6/178.7 kB 35.8 kB/s eta 0:00:02\n",
            "     ----------------------- ------------- 112.6/178.7 kB 35.8 kB/s eta 0:00:02\n",
            "     ----------------------- ------------- 112.6/178.7 kB 35.8 kB/s eta 0:00:02\n",
            "     ------------------------- ----------- 122.9/178.7 kB 37.7 kB/s eta 0:00:02\n",
            "     ------------------------- ----------- 122.9/178.7 kB 37.7 kB/s eta 0:00:02\n",
            "     ------------------------- ----------- 122.9/178.7 kB 37.7 kB/s eta 0:00:02\n",
            "     ------------------------- ----------- 122.9/178.7 kB 37.7 kB/s eta 0:00:02\n",
            "     ------------------------- ----------- 122.9/178.7 kB 37.7 kB/s eta 0:00:02\n",
            "     ------------------------- ----------- 122.9/178.7 kB 37.7 kB/s eta 0:00:02\n",
            "     ------------------------- ----------- 122.9/178.7 kB 37.7 kB/s eta 0:00:02\n",
            "     ------------------------- ----------- 122.9/178.7 kB 37.7 kB/s eta 0:00:02\n",
            "     ------------------------- ----------- 122.9/178.7 kB 37.7 kB/s eta 0:00:02\n",
            "     ------------------------- ----------- 122.9/178.7 kB 37.7 kB/s eta 0:00:02\n",
            "     ------------------------- ----------- 122.9/178.7 kB 37.7 kB/s eta 0:00:02\n",
            "     ----------------------------- ------- 143.4/178.7 kB 37.9 kB/s eta 0:00:01\n",
            "     ----------------------------- ------- 143.4/178.7 kB 37.9 kB/s eta 0:00:01\n",
            "     ------------------------------- ----- 153.6/178.7 kB 39.5 kB/s eta 0:00:01\n",
            "     ------------------------------- ----- 153.6/178.7 kB 39.5 kB/s eta 0:00:01\n",
            "     ------------------------------------  174.1/178.7 kB 44.1 kB/s eta 0:00:01\n",
            "     ------------------------------------- 178.7/178.7 kB 44.9 kB/s eta 0:00:00\n",
            "Requirement already satisfied: idna==3.7 in c:\\users\\henry\\appdata\\roaming\\python\\python311\\site-packages (from roboflow) (3.7)\n",
            "Requirement already satisfied: cycler in c:\\users\\henry\\appdata\\roaming\\python\\python311\\site-packages (from roboflow) (0.12.1)\n",
            "Requirement already satisfied: kiwisolver>=1.3.1 in c:\\users\\henry\\appdata\\roaming\\python\\python311\\site-packages (from roboflow) (1.4.5)\n",
            "Requirement already satisfied: matplotlib in c:\\users\\henry\\appdata\\roaming\\python\\python311\\site-packages (from roboflow) (3.9.0)\n",
            "Requirement already satisfied: numpy>=1.18.5 in c:\\users\\henry\\appdata\\roaming\\python\\python311\\site-packages (from roboflow) (1.26.4)\n",
            "Requirement already satisfied: opencv-python-headless==4.10.0.84 in c:\\users\\henry\\appdata\\roaming\\python\\python311\\site-packages (from roboflow) (4.10.0.84)\n",
            "Requirement already satisfied: Pillow>=7.1.2 in c:\\users\\henry\\appdata\\roaming\\python\\python311\\site-packages (from roboflow) (10.3.0)\n",
            "Requirement already satisfied: python-dateutil in c:\\users\\henry\\appdata\\roaming\\python\\python311\\site-packages (from roboflow) (2.9.0.post0)\n",
            "Collecting python-dotenv (from roboflow)\n",
            "  Downloading https://pypi.tuna.tsinghua.edu.cn/packages/6a/3e/b68c118422ec867fa7ab88444e1274aa40681c606d59ac27de5a5588f082/python_dotenv-1.0.1-py3-none-any.whl (19 kB)\n",
            "Requirement already satisfied: requests in c:\\users\\henry\\appdata\\roaming\\python\\python311\\site-packages (from roboflow) (2.32.3)\n",
            "Requirement already satisfied: six in c:\\users\\henry\\appdata\\roaming\\python\\python311\\site-packages (from roboflow) (1.16.0)\n",
            "Requirement already satisfied: urllib3>=1.26.6 in c:\\users\\henry\\appdata\\roaming\\python\\python311\\site-packages (from roboflow) (2.2.1)\n",
            "Requirement already satisfied: tqdm>=4.41.0 in c:\\users\\henry\\appdata\\roaming\\python\\python311\\site-packages (from roboflow) (4.66.4)\n",
            "Requirement already satisfied: PyYAML>=5.3.1 in c:\\users\\henry\\appdata\\roaming\\python\\python311\\site-packages (from roboflow) (6.0.1)\n",
            "Collecting requests-toolbelt (from roboflow)\n",
            "  Downloading https://pypi.tuna.tsinghua.edu.cn/packages/3f/51/d4db610ef29373b879047326cbf6fa98b6c1969d6f6dc423279de2b1be2c/requests_toolbelt-1.0.0-py2.py3-none-any.whl (54 kB)\n",
            "     ---------------------------------------- 0.0/54.5 kB ? eta -:--:--\n",
            "     ------- -------------------------------- 10.2/54.5 kB ? eta -:--:--\n",
            "     ------- -------------------------------- 10.2/54.5 kB ? eta -:--:--\n",
            "     ------- -------------------------------- 10.2/54.5 kB ? eta -:--:--\n",
            "     ------- -------------------------------- 10.2/54.5 kB ? eta -:--:--\n",
            "     ------- -------------------------------- 10.2/54.5 kB ? eta -:--:--\n",
            "     ------- -------------------------------- 10.2/54.5 kB ? eta -:--:--\n",
            "     ------- -------------------------------- 10.2/54.5 kB ? eta -:--:--\n",
            "     ------- -------------------------------- 10.2/54.5 kB ? eta -:--:--\n",
            "     ------- -------------------------------- 10.2/54.5 kB ? eta -:--:--\n",
            "     ------- -------------------------------- 10.2/54.5 kB ? eta -:--:--\n",
            "     --------------------- ----------------- 30.7/54.5 kB 43.8 kB/s eta 0:00:01\n",
            "     --------------------- ----------------- 30.7/54.5 kB 43.8 kB/s eta 0:00:01\n",
            "     --------------------- ----------------- 30.7/54.5 kB 43.8 kB/s eta 0:00:01\n",
            "     ------------------------------------ -- 51.2/54.5 kB 65.5 kB/s eta 0:00:01\n",
            "     --------------------------------------- 54.5/54.5 kB 69.1 kB/s eta 0:00:00\n",
            "Requirement already satisfied: python-magic in c:\\users\\henry\\appdata\\roaming\\python\\python311\\site-packages (from roboflow) (0.4.27)\n",
            "Requirement already satisfied: colorama in c:\\users\\henry\\appdata\\roaming\\python\\python311\\site-packages (from tqdm>=4.41.0->roboflow) (0.4.6)\n",
            "Requirement already satisfied: contourpy>=1.0.1 in c:\\users\\henry\\appdata\\roaming\\python\\python311\\site-packages (from matplotlib->roboflow) (1.2.1)\n",
            "Requirement already satisfied: fonttools>=4.22.0 in c:\\users\\henry\\appdata\\roaming\\python\\python311\\site-packages (from matplotlib->roboflow) (4.53.0)\n",
            "Requirement already satisfied: packaging>=20.0 in c:\\users\\henry\\appdata\\roaming\\python\\python311\\site-packages (from matplotlib->roboflow) (24.0)\n",
            "Requirement already satisfied: pyparsing>=2.3.1 in c:\\users\\henry\\appdata\\roaming\\python\\python311\\site-packages (from matplotlib->roboflow) (3.1.2)\n",
            "Requirement already satisfied: charset-normalizer<4,>=2 in c:\\users\\henry\\appdata\\roaming\\python\\python311\\site-packages (from requests->roboflow) (3.3.2)\n",
            "Installing collected packages: python-dotenv, chardet, requests-toolbelt\n",
            "Successfully installed chardet-4.0.0 python-dotenv-1.0.1 requests-toolbelt-1.0.0\n"
          ]
        }
      ]
    },
    {
      "cell_type": "code",
      "source": [
        "!pip install roboflow\n",
        "\n",
        "from roboflow import Roboflow\n",
        "rf = Roboflow(api_key=\"cCYMmWDZwc1P6gXzS4fN\")\n",
        "project = rf.workspace(\"roboflow-jvuqo\").project(\"football-players-detection-3zvbc\")\n",
        "version = project.version(9)\n",
        "dataset = version.download(\"yolov8\")\n",
        "\n"
      ],
      "metadata": {
        "colab": {
          "base_uri": "https://localhost:8080/"
        },
        "id": "_HDjTn-PtSXc",
        "outputId": "cae2c223-75f3-489d-f1a2-d534c0fb49a0"
      },
      "execution_count": null,
      "outputs": [
        {
          "output_type": "stream",
          "name": "stdout",
          "text": [
            "Requirement already satisfied: roboflow in /usr/local/lib/python3.10/dist-packages (1.1.33)\n",
            "Requirement already satisfied: certifi in /usr/local/lib/python3.10/dist-packages (from roboflow) (2024.6.2)\n",
            "Requirement already satisfied: chardet==4.0.0 in /usr/local/lib/python3.10/dist-packages (from roboflow) (4.0.0)\n",
            "Requirement already satisfied: idna==3.7 in /usr/local/lib/python3.10/dist-packages (from roboflow) (3.7)\n",
            "Requirement already satisfied: cycler in /usr/local/lib/python3.10/dist-packages (from roboflow) (0.12.1)\n",
            "Requirement already satisfied: kiwisolver>=1.3.1 in /usr/local/lib/python3.10/dist-packages (from roboflow) (1.4.5)\n",
            "Requirement already satisfied: matplotlib in /usr/local/lib/python3.10/dist-packages (from roboflow) (3.7.1)\n",
            "Requirement already satisfied: numpy>=1.18.5 in /usr/local/lib/python3.10/dist-packages (from roboflow) (1.25.2)\n",
            "Requirement already satisfied: opencv-python-headless==4.10.0.84 in /usr/local/lib/python3.10/dist-packages (from roboflow) (4.10.0.84)\n",
            "Requirement already satisfied: Pillow>=7.1.2 in /usr/local/lib/python3.10/dist-packages (from roboflow) (9.4.0)\n",
            "Requirement already satisfied: python-dateutil in /usr/local/lib/python3.10/dist-packages (from roboflow) (2.8.2)\n",
            "Requirement already satisfied: python-dotenv in /usr/local/lib/python3.10/dist-packages (from roboflow) (1.0.1)\n",
            "Requirement already satisfied: requests in /usr/local/lib/python3.10/dist-packages (from roboflow) (2.31.0)\n",
            "Requirement already satisfied: six in /usr/local/lib/python3.10/dist-packages (from roboflow) (1.16.0)\n",
            "Requirement already satisfied: urllib3>=1.26.6 in /usr/local/lib/python3.10/dist-packages (from roboflow) (2.0.7)\n",
            "Requirement already satisfied: tqdm>=4.41.0 in /usr/local/lib/python3.10/dist-packages (from roboflow) (4.66.4)\n",
            "Requirement already satisfied: PyYAML>=5.3.1 in /usr/local/lib/python3.10/dist-packages (from roboflow) (6.0.1)\n",
            "Requirement already satisfied: requests-toolbelt in /usr/local/lib/python3.10/dist-packages (from roboflow) (1.0.0)\n",
            "Requirement already satisfied: python-magic in /usr/local/lib/python3.10/dist-packages (from roboflow) (0.4.27)\n",
            "Requirement already satisfied: contourpy>=1.0.1 in /usr/local/lib/python3.10/dist-packages (from matplotlib->roboflow) (1.2.1)\n",
            "Requirement already satisfied: fonttools>=4.22.0 in /usr/local/lib/python3.10/dist-packages (from matplotlib->roboflow) (4.53.0)\n",
            "Requirement already satisfied: packaging>=20.0 in /usr/local/lib/python3.10/dist-packages (from matplotlib->roboflow) (24.1)\n",
            "Requirement already satisfied: pyparsing>=2.3.1 in /usr/local/lib/python3.10/dist-packages (from matplotlib->roboflow) (3.1.2)\n",
            "Requirement already satisfied: charset-normalizer<4,>=2 in /usr/local/lib/python3.10/dist-packages (from requests->roboflow) (3.3.2)\n",
            "loading Roboflow workspace...\n",
            "loading Roboflow project...\n",
            "Dependency ultralytics==8.0.196 is required but found version=8.2.38, to fix: `pip install ultralytics==8.0.196`\n"
          ]
        },
        {
          "output_type": "stream",
          "name": "stderr",
          "text": [
            "Downloading Dataset Version Zip in football-players-detection-9 to yolov8:: 100%|██████████| 70619/70619 [00:05<00:00, 13088.89it/s]"
          ]
        },
        {
          "output_type": "stream",
          "name": "stdout",
          "text": [
            "\n"
          ]
        },
        {
          "output_type": "stream",
          "name": "stderr",
          "text": [
            "\n",
            "Extracting Dataset Version Zip to football-players-detection-9 in yolov8:: 100%|██████████| 636/636 [00:00<00:00, 2242.16it/s]\n"
          ]
        }
      ]
    },
    {
      "cell_type": "code",
      "source": [
        "import torch\n",
        "print(torch.__version__)"
      ],
      "metadata": {
        "colab": {
          "base_uri": "https://localhost:8080/"
        },
        "id": "H1Zg0gUbVq7y",
        "outputId": "034fd586-e3bc-4dc5-848c-12a30fa0954d"
      },
      "execution_count": null,
      "outputs": [
        {
          "output_type": "stream",
          "name": "stdout",
          "text": [
            "2.3.1+cu118\n"
          ]
        }
      ]
    },
    {
      "cell_type": "code",
      "source": [
        "from ultralytics import YOLO\n",
        "model=YOLO(\"yolov8m.pt\")\n",
        "res=model.train(model=\"yolov8m.yaml\",data='C:/Users/Henry/datasets/football-players-detection-9/data.yaml',epochs=25,batch=2,device='cuda',imgsz=640)"
      ],
      "metadata": {
        "colab": {
          "base_uri": "https://localhost:8080/"
        },
        "id": "kJ_J1wdDvt9-",
        "outputId": "291f86e3-f0f3-4fb2-916b-5f092481e3e5"
      },
      "execution_count": null,
      "outputs": [
        {
          "output_type": "stream",
          "name": "stdout",
          "text": [
            "Ultralytics YOLOv8.2.38  Python-3.11.5 torch-2.3.1+cu118 CUDA:0 (NVIDIA GeForce RTX 4060 Ti, 16380MiB)\n",
            "\u001b[34m\u001b[1mengine\\trainer: \u001b[0mtask=detect, mode=train, model=yolov8m.yaml, data=C:/Users/Henry/datasets/football-players-detection-9/data.yaml, epochs=25, time=None, patience=100, batch=2, imgsz=640, save=True, save_period=-1, cache=False, device=cuda, workers=8, project=None, name=train29, exist_ok=False, pretrained=True, optimizer=auto, verbose=True, seed=0, deterministic=True, single_cls=False, rect=False, cos_lr=False, close_mosaic=10, resume=False, amp=True, fraction=1.0, profile=False, freeze=None, multi_scale=False, overlap_mask=True, mask_ratio=4, dropout=0.0, val=True, split=val, save_json=False, save_hybrid=False, conf=None, iou=0.7, max_det=300, half=False, dnn=False, plots=True, source=None, vid_stride=1, stream_buffer=False, visualize=False, augment=False, agnostic_nms=False, classes=None, retina_masks=False, embed=None, show=False, save_frames=False, save_txt=False, save_conf=False, save_crop=False, show_labels=True, show_conf=True, show_boxes=True, line_width=None, format=torchscript, keras=False, optimize=False, int8=False, dynamic=False, simplify=False, opset=None, workspace=4, nms=False, lr0=0.01, lrf=0.01, momentum=0.937, weight_decay=0.0005, warmup_epochs=3.0, warmup_momentum=0.8, warmup_bias_lr=0.1, box=7.5, cls=0.5, dfl=1.5, pose=12.0, kobj=1.0, label_smoothing=0.0, nbs=64, hsv_h=0.015, hsv_s=0.7, hsv_v=0.4, degrees=0.0, translate=0.1, scale=0.5, shear=0.0, perspective=0.0, flipud=0.0, fliplr=0.5, bgr=0.0, mosaic=1.0, mixup=0.0, copy_paste=0.0, auto_augment=randaugment, erasing=0.4, crop_fraction=1.0, cfg=None, tracker=botsort.yaml, save_dir=runs\\detect\\train29\n",
            "Overriding model.yaml nc=80 with nc=4\n",
            "\n",
            "                   from  n    params  module                                       arguments                     \n",
            "  0                  -1  1      1392  ultralytics.nn.modules.conv.Conv             [3, 48, 3, 2]                 \n",
            "  1                  -1  1     41664  ultralytics.nn.modules.conv.Conv             [48, 96, 3, 2]                \n",
            "  2                  -1  2    111360  ultralytics.nn.modules.block.C2f             [96, 96, 2, True]             \n",
            "  3                  -1  1    166272  ultralytics.nn.modules.conv.Conv             [96, 192, 3, 2]               \n",
            "  4                  -1  4    813312  ultralytics.nn.modules.block.C2f             [192, 192, 4, True]           \n",
            "  5                  -1  1    664320  ultralytics.nn.modules.conv.Conv             [192, 384, 3, 2]              \n",
            "  6                  -1  4   3248640  ultralytics.nn.modules.block.C2f             [384, 384, 4, True]           \n",
            "  7                  -1  1   1991808  ultralytics.nn.modules.conv.Conv             [384, 576, 3, 2]              \n",
            "  8                  -1  2   3985920  ultralytics.nn.modules.block.C2f             [576, 576, 2, True]           \n",
            "  9                  -1  1    831168  ultralytics.nn.modules.block.SPPF            [576, 576, 5]                 \n",
            " 10                  -1  1         0  torch.nn.modules.upsampling.Upsample         [None, 2, 'nearest']          \n",
            " 11             [-1, 6]  1         0  ultralytics.nn.modules.conv.Concat           [1]                           \n",
            " 12                  -1  2   1993728  ultralytics.nn.modules.block.C2f             [960, 384, 2]                 \n",
            " 13                  -1  1         0  torch.nn.modules.upsampling.Upsample         [None, 2, 'nearest']          \n",
            " 14             [-1, 4]  1         0  ultralytics.nn.modules.conv.Concat           [1]                           \n",
            " 15                  -1  2    517632  ultralytics.nn.modules.block.C2f             [576, 192, 2]                 \n",
            " 16                  -1  1    332160  ultralytics.nn.modules.conv.Conv             [192, 192, 3, 2]              \n",
            " 17            [-1, 12]  1         0  ultralytics.nn.modules.conv.Concat           [1]                           \n",
            " 18                  -1  2   1846272  ultralytics.nn.modules.block.C2f             [576, 384, 2]                 \n",
            " 19                  -1  1   1327872  ultralytics.nn.modules.conv.Conv             [384, 384, 3, 2]              \n",
            " 20             [-1, 9]  1         0  ultralytics.nn.modules.conv.Concat           [1]                           \n",
            " 21                  -1  2   4207104  ultralytics.nn.modules.block.C2f             [960, 576, 2]                 \n",
            " 22        [15, 18, 21]  1   3778012  ultralytics.nn.modules.head.Detect           [4, [192, 384, 576]]          \n",
            "Model summary: 295 layers, 25858636 parameters, 25858620 gradients, 79.1 GFLOPs\n",
            "\n",
            "Transferred 469/475 items from pretrained weights\n",
            "Freezing layer 'model.22.dfl.conv.weight'\n",
            "\u001b[34m\u001b[1mAMP: \u001b[0mrunning Automatic Mixed Precision (AMP) checks with YOLOv8n...\n",
            "\u001b[34m\u001b[1mAMP: \u001b[0mchecks passed \n"
          ]
        },
        {
          "output_type": "stream",
          "name": "stderr",
          "text": [
            "\u001b[34m\u001b[1mtrain: \u001b[0mScanning C:\\Users\\Henry\\datasets\\football-players-detection-9\\train\\labels.cache... 250 images, 0 backgrounds, 0\u001b[0m\n",
            "\u001b[34m\u001b[1mval: \u001b[0mScanning C:\\Users\\Henry\\datasets\\football-players-detection-9\\valid\\labels.cache... 43 images, 0 backgrounds, 0 co\u001b[0m\n"
          ]
        },
        {
          "output_type": "stream",
          "name": "stdout",
          "text": [
            "Plotting labels to runs\\detect\\train29\\labels.jpg... \n",
            "\u001b[34m\u001b[1moptimizer:\u001b[0m 'optimizer=auto' found, ignoring 'lr0=0.01' and 'momentum=0.937' and determining best 'optimizer', 'lr0' and 'momentum' automatically... \n",
            "\u001b[34m\u001b[1moptimizer:\u001b[0m AdamW(lr=0.00125, momentum=0.9) with parameter groups 77 weight(decay=0.0), 84 weight(decay=0.0005), 83 bias(decay=0.0)\n",
            "Image sizes 640 train, 640 val\n",
            "Using 8 dataloader workers\n",
            "Logging results to \u001b[1mruns\\detect\\train29\u001b[0m\n",
            "Starting training for 25 epochs...\n",
            "\n",
            "      Epoch    GPU_mem   box_loss   cls_loss   dfl_loss  Instances       Size\n"
          ]
        },
        {
          "output_type": "stream",
          "name": "stderr",
          "text": [
            "       1/25      1.56G      1.343      1.206      0.841         81        640: 100%|██████████| 125/125 [00:11<00:00, 1\n",
            "                 Class     Images  Instances      Box(P          R      mAP50  mAP50-95): 100%|██████████| 11/11 [00:00"
          ]
        },
        {
          "output_type": "stream",
          "name": "stdout",
          "text": [
            "                   all         43       1025      0.597      0.433      0.357      0.227\n"
          ]
        },
        {
          "output_type": "stream",
          "name": "stderr",
          "text": [
            "\n"
          ]
        },
        {
          "output_type": "stream",
          "name": "stdout",
          "text": [
            "\n",
            "      Epoch    GPU_mem   box_loss   cls_loss   dfl_loss  Instances       Size\n"
          ]
        },
        {
          "output_type": "stream",
          "name": "stderr",
          "text": [
            "       2/25      1.74G      1.365     0.9071     0.8339         72        640: 100%|██████████| 125/125 [00:08<00:00, 1\n",
            "                 Class     Images  Instances      Box(P          R      mAP50  mAP50-95): 100%|██████████| 11/11 [00:00"
          ]
        },
        {
          "output_type": "stream",
          "name": "stdout",
          "text": [
            "                   all         43       1025      0.671       0.48      0.489      0.277\n"
          ]
        },
        {
          "output_type": "stream",
          "name": "stderr",
          "text": [
            "\n"
          ]
        },
        {
          "output_type": "stream",
          "name": "stdout",
          "text": [
            "\n",
            "      Epoch    GPU_mem   box_loss   cls_loss   dfl_loss  Instances       Size\n"
          ]
        },
        {
          "output_type": "stream",
          "name": "stderr",
          "text": [
            "       3/25      1.73G      1.422     0.8315     0.8363         89        640: 100%|██████████| 125/125 [00:08<00:00, 1\n",
            "                 Class     Images  Instances      Box(P          R      mAP50  mAP50-95): 100%|██████████| 11/11 [00:00"
          ]
        },
        {
          "output_type": "stream",
          "name": "stdout",
          "text": [
            "                   all         43       1025      0.733       0.55      0.549      0.336\n"
          ]
        },
        {
          "output_type": "stream",
          "name": "stderr",
          "text": [
            "\n"
          ]
        },
        {
          "output_type": "stream",
          "name": "stdout",
          "text": [
            "\n",
            "      Epoch    GPU_mem   box_loss   cls_loss   dfl_loss  Instances       Size\n"
          ]
        },
        {
          "output_type": "stream",
          "name": "stderr",
          "text": [
            "       4/25      1.73G       1.33     0.8883     0.8263        118        640: 100%|██████████| 125/125 [00:08<00:00, 1\n",
            "                 Class     Images  Instances      Box(P          R      mAP50  mAP50-95): 100%|██████████| 11/11 [00:00"
          ]
        },
        {
          "output_type": "stream",
          "name": "stdout",
          "text": [
            "                   all         43       1025      0.754      0.555      0.593      0.368\n"
          ]
        },
        {
          "output_type": "stream",
          "name": "stderr",
          "text": [
            "\n"
          ]
        },
        {
          "output_type": "stream",
          "name": "stdout",
          "text": [
            "\n",
            "      Epoch    GPU_mem   box_loss   cls_loss   dfl_loss  Instances       Size\n"
          ]
        },
        {
          "output_type": "stream",
          "name": "stderr",
          "text": [
            "       5/25      1.74G      1.262      0.834     0.8245         57        640: 100%|██████████| 125/125 [00:08<00:00, 1\n",
            "                 Class     Images  Instances      Box(P          R      mAP50  mAP50-95): 100%|██████████| 11/11 [00:00"
          ]
        },
        {
          "output_type": "stream",
          "name": "stdout",
          "text": [
            "                   all         43       1025      0.815      0.533      0.601      0.362\n"
          ]
        },
        {
          "output_type": "stream",
          "name": "stderr",
          "text": [
            "\n"
          ]
        },
        {
          "output_type": "stream",
          "name": "stdout",
          "text": [
            "\n",
            "      Epoch    GPU_mem   box_loss   cls_loss   dfl_loss  Instances       Size\n"
          ]
        },
        {
          "output_type": "stream",
          "name": "stderr",
          "text": [
            "       6/25      1.73G      1.299     0.7394     0.8168         41        640: 100%|██████████| 125/125 [00:08<00:00, 1\n",
            "                 Class     Images  Instances      Box(P          R      mAP50  mAP50-95): 100%|██████████| 11/11 [00:00"
          ]
        },
        {
          "output_type": "stream",
          "name": "stdout",
          "text": [
            "                   all         43       1025      0.819      0.547      0.644      0.408\n"
          ]
        },
        {
          "output_type": "stream",
          "name": "stderr",
          "text": [
            "\n"
          ]
        },
        {
          "output_type": "stream",
          "name": "stdout",
          "text": [
            "\n",
            "      Epoch    GPU_mem   box_loss   cls_loss   dfl_loss  Instances       Size\n"
          ]
        },
        {
          "output_type": "stream",
          "name": "stderr",
          "text": [
            "       7/25      1.74G      1.206     0.6828     0.8135         38        640: 100%|██████████| 125/125 [00:08<00:00, 1\n",
            "                 Class     Images  Instances      Box(P          R      mAP50  mAP50-95): 100%|██████████| 11/11 [00:00"
          ]
        },
        {
          "output_type": "stream",
          "name": "stdout",
          "text": [
            "                   all         43       1025      0.847      0.577      0.679      0.435\n"
          ]
        },
        {
          "output_type": "stream",
          "name": "stderr",
          "text": [
            "\n"
          ]
        },
        {
          "output_type": "stream",
          "name": "stdout",
          "text": [
            "\n",
            "      Epoch    GPU_mem   box_loss   cls_loss   dfl_loss  Instances       Size\n"
          ]
        },
        {
          "output_type": "stream",
          "name": "stderr",
          "text": [
            "       8/25      1.74G      1.172     0.6539     0.8112        156        640: 100%|██████████| 125/125 [00:08<00:00, 1\n",
            "                 Class     Images  Instances      Box(P          R      mAP50  mAP50-95): 100%|██████████| 11/11 [00:00"
          ]
        },
        {
          "output_type": "stream",
          "name": "stdout",
          "text": [
            "                   all         43       1025      0.911      0.558      0.705      0.455\n"
          ]
        },
        {
          "output_type": "stream",
          "name": "stderr",
          "text": [
            "\n"
          ]
        },
        {
          "output_type": "stream",
          "name": "stdout",
          "text": [
            "\n",
            "      Epoch    GPU_mem   box_loss   cls_loss   dfl_loss  Instances       Size\n"
          ]
        },
        {
          "output_type": "stream",
          "name": "stderr",
          "text": [
            "       9/25      1.74G      1.183     0.6547     0.8078         45        640: 100%|██████████| 125/125 [00:08<00:00, 1\n",
            "                 Class     Images  Instances      Box(P          R      mAP50  mAP50-95): 100%|██████████| 11/11 [00:00"
          ]
        },
        {
          "output_type": "stream",
          "name": "stdout",
          "text": [
            "                   all         43       1025      0.907      0.572      0.706      0.433\n"
          ]
        },
        {
          "output_type": "stream",
          "name": "stderr",
          "text": [
            "\n"
          ]
        },
        {
          "output_type": "stream",
          "name": "stdout",
          "text": [
            "\n",
            "      Epoch    GPU_mem   box_loss   cls_loss   dfl_loss  Instances       Size\n"
          ]
        },
        {
          "output_type": "stream",
          "name": "stderr",
          "text": [
            "      10/25      1.73G      1.129     0.5949     0.8074        136        640: 100%|██████████| 125/125 [00:08<00:00, 1\n",
            "                 Class     Images  Instances      Box(P          R      mAP50  mAP50-95): 100%|██████████| 11/11 [00:00"
          ]
        },
        {
          "output_type": "stream",
          "name": "stdout",
          "text": [
            "                   all         43       1025       0.89       0.62      0.713      0.454\n"
          ]
        },
        {
          "output_type": "stream",
          "name": "stderr",
          "text": [
            "\n"
          ]
        },
        {
          "output_type": "stream",
          "name": "stdout",
          "text": [
            "\n",
            "      Epoch    GPU_mem   box_loss   cls_loss   dfl_loss  Instances       Size\n"
          ]
        },
        {
          "output_type": "stream",
          "name": "stderr",
          "text": [
            "      11/25      1.75G      1.088     0.5694     0.8028        104        640: 100%|██████████| 125/125 [00:08<00:00, 1\n",
            "                 Class     Images  Instances      Box(P          R      mAP50  mAP50-95): 100%|██████████| 11/11 [00:00"
          ]
        },
        {
          "output_type": "stream",
          "name": "stdout",
          "text": [
            "                   all         43       1025      0.892      0.654      0.728      0.466\n"
          ]
        },
        {
          "output_type": "stream",
          "name": "stderr",
          "text": [
            "\n"
          ]
        },
        {
          "output_type": "stream",
          "name": "stdout",
          "text": [
            "\n",
            "      Epoch    GPU_mem   box_loss   cls_loss   dfl_loss  Instances       Size\n"
          ]
        },
        {
          "output_type": "stream",
          "name": "stderr",
          "text": [
            "      12/25      1.75G      1.081     0.5728     0.8031         86        640: 100%|██████████| 125/125 [00:08<00:00, 1\n",
            "                 Class     Images  Instances      Box(P          R      mAP50  mAP50-95): 100%|██████████| 11/11 [00:00"
          ]
        },
        {
          "output_type": "stream",
          "name": "stdout",
          "text": [
            "                   all         43       1025      0.819      0.655      0.722      0.464\n"
          ]
        },
        {
          "output_type": "stream",
          "name": "stderr",
          "text": [
            "\n"
          ]
        },
        {
          "output_type": "stream",
          "name": "stdout",
          "text": [
            "\n",
            "      Epoch    GPU_mem   box_loss   cls_loss   dfl_loss  Instances       Size\n"
          ]
        },
        {
          "output_type": "stream",
          "name": "stderr",
          "text": [
            "      13/25      1.64G      1.077     0.5575     0.7984        134        640: 100%|██████████| 125/125 [00:08<00:00, 1\n",
            "                 Class     Images  Instances      Box(P          R      mAP50  mAP50-95): 100%|██████████| 11/11 [00:00"
          ]
        },
        {
          "output_type": "stream",
          "name": "stdout",
          "text": [
            "                   all         43       1025      0.833      0.674      0.725      0.474\n"
          ]
        },
        {
          "output_type": "stream",
          "name": "stderr",
          "text": [
            "\n"
          ]
        },
        {
          "output_type": "stream",
          "name": "stdout",
          "text": [
            "\n",
            "      Epoch    GPU_mem   box_loss   cls_loss   dfl_loss  Instances       Size\n"
          ]
        },
        {
          "output_type": "stream",
          "name": "stderr",
          "text": [
            "      14/25      1.74G      1.032     0.5239     0.8012         64        640: 100%|██████████| 125/125 [00:08<00:00, 1\n",
            "                 Class     Images  Instances      Box(P          R      mAP50  mAP50-95): 100%|██████████| 11/11 [00:00"
          ]
        },
        {
          "output_type": "stream",
          "name": "stdout",
          "text": [
            "                   all         43       1025      0.895       0.68      0.751      0.481\n"
          ]
        },
        {
          "output_type": "stream",
          "name": "stderr",
          "text": [
            "\n"
          ]
        },
        {
          "output_type": "stream",
          "name": "stdout",
          "text": [
            "\n",
            "      Epoch    GPU_mem   box_loss   cls_loss   dfl_loss  Instances       Size\n"
          ]
        },
        {
          "output_type": "stream",
          "name": "stderr",
          "text": [
            "      15/25      1.74G      1.035     0.5153      0.799         46        640: 100%|██████████| 125/125 [00:08<00:00, 1\n",
            "                 Class     Images  Instances      Box(P          R      mAP50  mAP50-95): 100%|██████████| 11/11 [00:00"
          ]
        },
        {
          "output_type": "stream",
          "name": "stdout",
          "text": [
            "                   all         43       1025      0.881      0.716      0.778      0.507\n"
          ]
        },
        {
          "output_type": "stream",
          "name": "stderr",
          "text": [
            "\n"
          ]
        },
        {
          "output_type": "stream",
          "name": "stdout",
          "text": [
            "Closing dataloader mosaic\n",
            "\n",
            "      Epoch    GPU_mem   box_loss   cls_loss   dfl_loss  Instances       Size\n"
          ]
        },
        {
          "output_type": "stream",
          "name": "stderr",
          "text": [
            "      16/25      1.75G      1.007     0.5118     0.8005         43        640: 100%|██████████| 125/125 [00:09<00:00, 1\n",
            "                 Class     Images  Instances      Box(P          R      mAP50  mAP50-95): 100%|██████████| 11/11 [00:00"
          ]
        },
        {
          "output_type": "stream",
          "name": "stdout",
          "text": [
            "                   all         43       1025      0.866      0.684      0.752      0.478\n"
          ]
        },
        {
          "output_type": "stream",
          "name": "stderr",
          "text": [
            "\n"
          ]
        },
        {
          "output_type": "stream",
          "name": "stdout",
          "text": [
            "\n",
            "      Epoch    GPU_mem   box_loss   cls_loss   dfl_loss  Instances       Size\n"
          ]
        },
        {
          "output_type": "stream",
          "name": "stderr",
          "text": [
            "      17/25      1.74G     0.9838     0.5097     0.7927         49        640: 100%|██████████| 125/125 [00:08<00:00, 1\n",
            "                 Class     Images  Instances      Box(P          R      mAP50  mAP50-95): 100%|██████████| 11/11 [00:00"
          ]
        },
        {
          "output_type": "stream",
          "name": "stdout",
          "text": [
            "                   all         43       1025        0.9      0.684      0.754      0.486\n"
          ]
        },
        {
          "output_type": "stream",
          "name": "stderr",
          "text": [
            "\n"
          ]
        },
        {
          "output_type": "stream",
          "name": "stdout",
          "text": [
            "\n",
            "      Epoch    GPU_mem   box_loss   cls_loss   dfl_loss  Instances       Size\n"
          ]
        },
        {
          "output_type": "stream",
          "name": "stderr",
          "text": [
            "      18/25      1.73G     0.9503     0.4884     0.7921         46        640: 100%|██████████| 125/125 [00:08<00:00, 1\n",
            "                 Class     Images  Instances      Box(P          R      mAP50  mAP50-95): 100%|██████████| 11/11 [00:00"
          ]
        },
        {
          "output_type": "stream",
          "name": "stdout",
          "text": [
            "                   all         43       1025      0.827      0.642      0.727       0.46\n"
          ]
        },
        {
          "output_type": "stream",
          "name": "stderr",
          "text": [
            "\n"
          ]
        },
        {
          "output_type": "stream",
          "name": "stdout",
          "text": [
            "\n",
            "      Epoch    GPU_mem   box_loss   cls_loss   dfl_loss  Instances       Size\n"
          ]
        },
        {
          "output_type": "stream",
          "name": "stderr",
          "text": [
            "      19/25      1.86G      1.013     0.5036     0.7962         46        640: 100%|██████████| 125/125 [00:08<00:00, 1\n",
            "                 Class     Images  Instances      Box(P          R      mAP50  mAP50-95): 100%|██████████| 11/11 [00:00"
          ]
        },
        {
          "output_type": "stream",
          "name": "stdout",
          "text": [
            "                   all         43       1025      0.885      0.676      0.765      0.467\n"
          ]
        },
        {
          "output_type": "stream",
          "name": "stderr",
          "text": [
            "\n"
          ]
        },
        {
          "output_type": "stream",
          "name": "stdout",
          "text": [
            "\n",
            "      Epoch    GPU_mem   box_loss   cls_loss   dfl_loss  Instances       Size\n"
          ]
        },
        {
          "output_type": "stream",
          "name": "stderr",
          "text": [
            "      20/25      1.73G     0.9871     0.4905     0.7951         45        640: 100%|██████████| 125/125 [00:08<00:00, 1\n",
            "                 Class     Images  Instances      Box(P          R      mAP50  mAP50-95): 100%|██████████| 11/11 [00:00"
          ]
        },
        {
          "output_type": "stream",
          "name": "stdout",
          "text": [
            "                   all         43       1025      0.891      0.688      0.758      0.483\n"
          ]
        },
        {
          "output_type": "stream",
          "name": "stderr",
          "text": [
            "\n"
          ]
        },
        {
          "output_type": "stream",
          "name": "stdout",
          "text": [
            "\n",
            "      Epoch    GPU_mem   box_loss   cls_loss   dfl_loss  Instances       Size\n"
          ]
        },
        {
          "output_type": "stream",
          "name": "stderr",
          "text": [
            "      21/25      1.74G     0.9828     0.4876     0.7938         46        640: 100%|██████████| 125/125 [00:08<00:00, 1\n",
            "                 Class     Images  Instances      Box(P          R      mAP50  mAP50-95): 100%|██████████| 11/11 [00:00"
          ]
        },
        {
          "output_type": "stream",
          "name": "stdout",
          "text": [
            "                   all         43       1025      0.924      0.677      0.766      0.502\n"
          ]
        },
        {
          "output_type": "stream",
          "name": "stderr",
          "text": [
            "\n"
          ]
        },
        {
          "output_type": "stream",
          "name": "stdout",
          "text": [
            "\n",
            "      Epoch    GPU_mem   box_loss   cls_loss   dfl_loss  Instances       Size\n"
          ]
        },
        {
          "output_type": "stream",
          "name": "stderr",
          "text": [
            "      22/25      1.73G     0.9621     0.4763     0.7897         48        640: 100%|██████████| 125/125 [00:08<00:00, 1\n",
            "                 Class     Images  Instances      Box(P          R      mAP50  mAP50-95): 100%|██████████| 11/11 [00:00"
          ]
        },
        {
          "output_type": "stream",
          "name": "stdout",
          "text": [
            "                   all         43       1025       0.92      0.733      0.778      0.526\n"
          ]
        },
        {
          "output_type": "stream",
          "name": "stderr",
          "text": [
            "\n"
          ]
        },
        {
          "output_type": "stream",
          "name": "stdout",
          "text": [
            "\n",
            "      Epoch    GPU_mem   box_loss   cls_loss   dfl_loss  Instances       Size\n"
          ]
        },
        {
          "output_type": "stream",
          "name": "stderr",
          "text": [
            "      23/25      1.74G     0.8885     0.4405     0.7962         43        640: 100%|██████████| 125/125 [00:08<00:00, 1\n",
            "                 Class     Images  Instances      Box(P          R      mAP50  mAP50-95): 100%|██████████| 11/11 [00:00"
          ]
        },
        {
          "output_type": "stream",
          "name": "stdout",
          "text": [
            "                   all         43       1025      0.907      0.718      0.783      0.526\n"
          ]
        },
        {
          "output_type": "stream",
          "name": "stderr",
          "text": [
            "\n"
          ]
        },
        {
          "output_type": "stream",
          "name": "stdout",
          "text": [
            "\n",
            "      Epoch    GPU_mem   box_loss   cls_loss   dfl_loss  Instances       Size\n"
          ]
        },
        {
          "output_type": "stream",
          "name": "stderr",
          "text": [
            "      24/25      1.74G     0.9175     0.4573     0.7858         48        640: 100%|██████████| 125/125 [00:08<00:00, 1\n",
            "                 Class     Images  Instances      Box(P          R      mAP50  mAP50-95): 100%|██████████| 11/11 [00:00"
          ]
        },
        {
          "output_type": "stream",
          "name": "stdout",
          "text": [
            "                   all         43       1025      0.911      0.718      0.777      0.522\n"
          ]
        },
        {
          "output_type": "stream",
          "name": "stderr",
          "text": [
            "\n"
          ]
        },
        {
          "output_type": "stream",
          "name": "stdout",
          "text": [
            "\n",
            "      Epoch    GPU_mem   box_loss   cls_loss   dfl_loss  Instances       Size\n"
          ]
        },
        {
          "output_type": "stream",
          "name": "stderr",
          "text": [
            "      25/25      1.73G     0.8809     0.4392     0.7905         45        640: 100%|██████████| 125/125 [00:08<00:00, 1\n",
            "                 Class     Images  Instances      Box(P          R      mAP50  mAP50-95): 100%|██████████| 11/11 [00:00"
          ]
        },
        {
          "output_type": "stream",
          "name": "stdout",
          "text": [
            "                   all         43       1025      0.896      0.725      0.782      0.522\n"
          ]
        },
        {
          "output_type": "stream",
          "name": "stderr",
          "text": [
            "\n"
          ]
        },
        {
          "output_type": "stream",
          "name": "stdout",
          "text": [
            "\n",
            "25 epochs completed in 0.077 hours.\n",
            "Optimizer stripped from runs\\detect\\train29\\weights\\last.pt, 52.0MB\n",
            "Optimizer stripped from runs\\detect\\train29\\weights\\best.pt, 52.0MB\n",
            "\n",
            "Validating runs\\detect\\train29\\weights\\best.pt...\n",
            "Ultralytics YOLOv8.2.38  Python-3.11.5 torch-2.3.1+cu118 CUDA:0 (NVIDIA GeForce RTX 4060 Ti, 16380MiB)\n",
            "Model summary (fused): 218 layers, 25842076 parameters, 0 gradients, 78.7 GFLOPs\n"
          ]
        },
        {
          "output_type": "stream",
          "name": "stderr",
          "text": [
            "                 Class     Images  Instances      Box(P          R      mAP50  mAP50-95): 100%|██████████| 11/11 [00:00\n"
          ]
        },
        {
          "output_type": "stream",
          "name": "stdout",
          "text": [
            "                   all         43       1025      0.907      0.718      0.783      0.526\n",
            "                  ball         39         39          1      0.212      0.341      0.149\n",
            "            goalkeeper         32         32       0.89      0.875      0.936      0.669\n",
            "                player         43        853      0.884      0.945      0.973      0.737\n",
            "               referee         43        101      0.854      0.842      0.883       0.55\n",
            "Speed: 0.3ms preprocess, 10.2ms inference, 0.0ms loss, 0.9ms postprocess per image\n",
            "Results saved to \u001b[1mruns\\detect\\train29\u001b[0m\n"
          ]
        }
      ]
    },
    {
      "cell_type": "code",
      "source": [
        "import cv2\n",
        "from ultralytics import YOLO\n",
        "model = YOLO('/runs/detect/train29/weights/best.pt')\n",
        "video_path = \"C:\\\\Users\\\\Henry\\\\Desktop\\\\1136233914-1-208.mp4\"\n",
        "cap = cv2.VideoCapture(video_path)\n",
        "while cap.isOpened():\n",
        "    success, frame = cap.read()\n",
        "    if success:\n",
        "        result = model(frame)\n",
        "        annotated_frame = result[0].plot()\n",
        "        cv2.imshow(\"YOLOv8 Inference\", annotated_frame)\n",
        "        if cv2.waitKey(1) & 0xFF == ord(\"q\"):\n",
        "            break\n",
        "    else:\n",
        "        break\n",
        "cap.release()\n",
        "cv2.destroyAllWindows()"
      ],
      "metadata": {
        "id": "l0YKctPqnkZN"
      },
      "execution_count": null,
      "outputs": []
    }
  ]
}